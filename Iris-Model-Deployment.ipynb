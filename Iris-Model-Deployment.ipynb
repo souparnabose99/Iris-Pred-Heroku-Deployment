{
 "cells": [
  {
   "cell_type": "markdown",
   "metadata": {},
   "source": [
    "# Creating a deployment model for the Iris data prediction"
   ]
  },
  {
   "cell_type": "markdown",
   "metadata": {},
   "source": [
    "<b>Import required libraries</b>"
   ]
  },
  {
   "cell_type": "code",
   "execution_count": 1,
   "metadata": {},
   "outputs": [],
   "source": [
    "import numpy as np\n",
    "import pandas as pd\n",
    "import matplotlib.pyplot as plt\n",
    "%matplotlib inline"
   ]
  },
  {
   "cell_type": "markdown",
   "metadata": {},
   "source": [
    "<b>Reading data<b/>"
   ]
  },
  {
   "cell_type": "code",
   "execution_count": 2,
   "metadata": {},
   "outputs": [],
   "source": [
    "df = pd.read_csv('iris.csv')"
   ]
  },
  {
   "cell_type": "code",
   "execution_count": 3,
   "metadata": {},
   "outputs": [
    {
     "data": {
      "text/html": [
       "<div>\n",
       "<style scoped>\n",
       "    .dataframe tbody tr th:only-of-type {\n",
       "        vertical-align: middle;\n",
       "    }\n",
       "\n",
       "    .dataframe tbody tr th {\n",
       "        vertical-align: top;\n",
       "    }\n",
       "\n",
       "    .dataframe thead th {\n",
       "        text-align: right;\n",
       "    }\n",
       "</style>\n",
       "<table border=\"1\" class=\"dataframe\">\n",
       "  <thead>\n",
       "    <tr style=\"text-align: right;\">\n",
       "      <th></th>\n",
       "      <th>sepal_length</th>\n",
       "      <th>sepal_width</th>\n",
       "      <th>petal_length</th>\n",
       "      <th>petal_width</th>\n",
       "      <th>species</th>\n",
       "    </tr>\n",
       "  </thead>\n",
       "  <tbody>\n",
       "    <tr>\n",
       "      <th>0</th>\n",
       "      <td>5.1</td>\n",
       "      <td>3.5</td>\n",
       "      <td>1.4</td>\n",
       "      <td>0.2</td>\n",
       "      <td>setosa</td>\n",
       "    </tr>\n",
       "    <tr>\n",
       "      <th>1</th>\n",
       "      <td>4.9</td>\n",
       "      <td>3.0</td>\n",
       "      <td>1.4</td>\n",
       "      <td>0.2</td>\n",
       "      <td>setosa</td>\n",
       "    </tr>\n",
       "    <tr>\n",
       "      <th>2</th>\n",
       "      <td>4.7</td>\n",
       "      <td>3.2</td>\n",
       "      <td>1.3</td>\n",
       "      <td>0.2</td>\n",
       "      <td>setosa</td>\n",
       "    </tr>\n",
       "    <tr>\n",
       "      <th>3</th>\n",
       "      <td>4.6</td>\n",
       "      <td>3.1</td>\n",
       "      <td>1.5</td>\n",
       "      <td>0.2</td>\n",
       "      <td>setosa</td>\n",
       "    </tr>\n",
       "    <tr>\n",
       "      <th>4</th>\n",
       "      <td>5.0</td>\n",
       "      <td>3.6</td>\n",
       "      <td>1.4</td>\n",
       "      <td>0.2</td>\n",
       "      <td>setosa</td>\n",
       "    </tr>\n",
       "  </tbody>\n",
       "</table>\n",
       "</div>"
      ],
      "text/plain": [
       "   sepal_length  sepal_width  petal_length  petal_width species\n",
       "0           5.1          3.5           1.4          0.2  setosa\n",
       "1           4.9          3.0           1.4          0.2  setosa\n",
       "2           4.7          3.2           1.3          0.2  setosa\n",
       "3           4.6          3.1           1.5          0.2  setosa\n",
       "4           5.0          3.6           1.4          0.2  setosa"
      ]
     },
     "execution_count": 3,
     "metadata": {},
     "output_type": "execute_result"
    }
   ],
   "source": [
    "df.head()"
   ]
  },
  {
   "cell_type": "code",
   "execution_count": 4,
   "metadata": {},
   "outputs": [],
   "source": [
    "X = df.drop('species', axis=1)"
   ]
  },
  {
   "cell_type": "code",
   "execution_count": 5,
   "metadata": {},
   "outputs": [
    {
     "data": {
      "text/html": [
       "<div>\n",
       "<style scoped>\n",
       "    .dataframe tbody tr th:only-of-type {\n",
       "        vertical-align: middle;\n",
       "    }\n",
       "\n",
       "    .dataframe tbody tr th {\n",
       "        vertical-align: top;\n",
       "    }\n",
       "\n",
       "    .dataframe thead th {\n",
       "        text-align: right;\n",
       "    }\n",
       "</style>\n",
       "<table border=\"1\" class=\"dataframe\">\n",
       "  <thead>\n",
       "    <tr style=\"text-align: right;\">\n",
       "      <th></th>\n",
       "      <th>sepal_length</th>\n",
       "      <th>sepal_width</th>\n",
       "      <th>petal_length</th>\n",
       "      <th>petal_width</th>\n",
       "    </tr>\n",
       "  </thead>\n",
       "  <tbody>\n",
       "    <tr>\n",
       "      <th>0</th>\n",
       "      <td>5.1</td>\n",
       "      <td>3.5</td>\n",
       "      <td>1.4</td>\n",
       "      <td>0.2</td>\n",
       "    </tr>\n",
       "    <tr>\n",
       "      <th>1</th>\n",
       "      <td>4.9</td>\n",
       "      <td>3.0</td>\n",
       "      <td>1.4</td>\n",
       "      <td>0.2</td>\n",
       "    </tr>\n",
       "    <tr>\n",
       "      <th>2</th>\n",
       "      <td>4.7</td>\n",
       "      <td>3.2</td>\n",
       "      <td>1.3</td>\n",
       "      <td>0.2</td>\n",
       "    </tr>\n",
       "    <tr>\n",
       "      <th>3</th>\n",
       "      <td>4.6</td>\n",
       "      <td>3.1</td>\n",
       "      <td>1.5</td>\n",
       "      <td>0.2</td>\n",
       "    </tr>\n",
       "    <tr>\n",
       "      <th>4</th>\n",
       "      <td>5.0</td>\n",
       "      <td>3.6</td>\n",
       "      <td>1.4</td>\n",
       "      <td>0.2</td>\n",
       "    </tr>\n",
       "    <tr>\n",
       "      <th>...</th>\n",
       "      <td>...</td>\n",
       "      <td>...</td>\n",
       "      <td>...</td>\n",
       "      <td>...</td>\n",
       "    </tr>\n",
       "    <tr>\n",
       "      <th>145</th>\n",
       "      <td>6.7</td>\n",
       "      <td>3.0</td>\n",
       "      <td>5.2</td>\n",
       "      <td>2.3</td>\n",
       "    </tr>\n",
       "    <tr>\n",
       "      <th>146</th>\n",
       "      <td>6.3</td>\n",
       "      <td>2.5</td>\n",
       "      <td>5.0</td>\n",
       "      <td>1.9</td>\n",
       "    </tr>\n",
       "    <tr>\n",
       "      <th>147</th>\n",
       "      <td>6.5</td>\n",
       "      <td>3.0</td>\n",
       "      <td>5.2</td>\n",
       "      <td>2.0</td>\n",
       "    </tr>\n",
       "    <tr>\n",
       "      <th>148</th>\n",
       "      <td>6.2</td>\n",
       "      <td>3.4</td>\n",
       "      <td>5.4</td>\n",
       "      <td>2.3</td>\n",
       "    </tr>\n",
       "    <tr>\n",
       "      <th>149</th>\n",
       "      <td>5.9</td>\n",
       "      <td>3.0</td>\n",
       "      <td>5.1</td>\n",
       "      <td>1.8</td>\n",
       "    </tr>\n",
       "  </tbody>\n",
       "</table>\n",
       "<p>150 rows × 4 columns</p>\n",
       "</div>"
      ],
      "text/plain": [
       "     sepal_length  sepal_width  petal_length  petal_width\n",
       "0             5.1          3.5           1.4          0.2\n",
       "1             4.9          3.0           1.4          0.2\n",
       "2             4.7          3.2           1.3          0.2\n",
       "3             4.6          3.1           1.5          0.2\n",
       "4             5.0          3.6           1.4          0.2\n",
       "..            ...          ...           ...          ...\n",
       "145           6.7          3.0           5.2          2.3\n",
       "146           6.3          2.5           5.0          1.9\n",
       "147           6.5          3.0           5.2          2.0\n",
       "148           6.2          3.4           5.4          2.3\n",
       "149           5.9          3.0           5.1          1.8\n",
       "\n",
       "[150 rows x 4 columns]"
      ]
     },
     "execution_count": 5,
     "metadata": {},
     "output_type": "execute_result"
    }
   ],
   "source": [
    "X"
   ]
  },
  {
   "cell_type": "code",
   "execution_count": 6,
   "metadata": {},
   "outputs": [],
   "source": [
    "y = df['species']"
   ]
  },
  {
   "cell_type": "code",
   "execution_count": 7,
   "metadata": {},
   "outputs": [
    {
     "data": {
      "text/plain": [
       "0    setosa\n",
       "1    setosa\n",
       "2    setosa\n",
       "3    setosa\n",
       "4    setosa\n",
       "Name: species, dtype: object"
      ]
     },
     "execution_count": 7,
     "metadata": {},
     "output_type": "execute_result"
    }
   ],
   "source": [
    "y.head()"
   ]
  },
  {
   "cell_type": "code",
   "execution_count": 8,
   "metadata": {},
   "outputs": [
    {
     "data": {
      "text/plain": [
       "array(['setosa', 'versicolor', 'virginica'], dtype=object)"
      ]
     },
     "execution_count": 8,
     "metadata": {},
     "output_type": "execute_result"
    }
   ],
   "source": [
    "y.unique()"
   ]
  },
  {
   "cell_type": "markdown",
   "metadata": {},
   "source": [
    "<b>Do One Hot Encoding<b/>"
   ]
  },
  {
   "cell_type": "code",
   "execution_count": 9,
   "metadata": {},
   "outputs": [],
   "source": [
    "from sklearn.preprocessing import LabelBinarizer"
   ]
  },
  {
   "cell_type": "code",
   "execution_count": 10,
   "metadata": {},
   "outputs": [],
   "source": [
    "encoder = LabelBinarizer()"
   ]
  },
  {
   "cell_type": "code",
   "execution_count": 11,
   "metadata": {},
   "outputs": [],
   "source": [
    "y = encoder.fit_transform(y)"
   ]
  },
  {
   "cell_type": "code",
   "execution_count": 12,
   "metadata": {},
   "outputs": [
    {
     "data": {
      "text/plain": [
       "array([[1, 0, 0],\n",
       "       [1, 0, 0],\n",
       "       [1, 0, 0],\n",
       "       [1, 0, 0],\n",
       "       [1, 0, 0],\n",
       "       [1, 0, 0],\n",
       "       [1, 0, 0],\n",
       "       [1, 0, 0],\n",
       "       [1, 0, 0],\n",
       "       [1, 0, 0],\n",
       "       [1, 0, 0],\n",
       "       [1, 0, 0],\n",
       "       [1, 0, 0],\n",
       "       [1, 0, 0],\n",
       "       [1, 0, 0],\n",
       "       [1, 0, 0],\n",
       "       [1, 0, 0],\n",
       "       [1, 0, 0],\n",
       "       [1, 0, 0],\n",
       "       [1, 0, 0],\n",
       "       [1, 0, 0],\n",
       "       [1, 0, 0],\n",
       "       [1, 0, 0],\n",
       "       [1, 0, 0],\n",
       "       [1, 0, 0],\n",
       "       [1, 0, 0],\n",
       "       [1, 0, 0],\n",
       "       [1, 0, 0],\n",
       "       [1, 0, 0],\n",
       "       [1, 0, 0],\n",
       "       [1, 0, 0],\n",
       "       [1, 0, 0],\n",
       "       [1, 0, 0],\n",
       "       [1, 0, 0],\n",
       "       [1, 0, 0],\n",
       "       [1, 0, 0],\n",
       "       [1, 0, 0],\n",
       "       [1, 0, 0],\n",
       "       [1, 0, 0],\n",
       "       [1, 0, 0],\n",
       "       [1, 0, 0],\n",
       "       [1, 0, 0],\n",
       "       [1, 0, 0],\n",
       "       [1, 0, 0],\n",
       "       [1, 0, 0],\n",
       "       [1, 0, 0],\n",
       "       [1, 0, 0],\n",
       "       [1, 0, 0],\n",
       "       [1, 0, 0],\n",
       "       [1, 0, 0],\n",
       "       [0, 1, 0],\n",
       "       [0, 1, 0],\n",
       "       [0, 1, 0],\n",
       "       [0, 1, 0],\n",
       "       [0, 1, 0],\n",
       "       [0, 1, 0],\n",
       "       [0, 1, 0],\n",
       "       [0, 1, 0],\n",
       "       [0, 1, 0],\n",
       "       [0, 1, 0],\n",
       "       [0, 1, 0],\n",
       "       [0, 1, 0],\n",
       "       [0, 1, 0],\n",
       "       [0, 1, 0],\n",
       "       [0, 1, 0],\n",
       "       [0, 1, 0],\n",
       "       [0, 1, 0],\n",
       "       [0, 1, 0],\n",
       "       [0, 1, 0],\n",
       "       [0, 1, 0],\n",
       "       [0, 1, 0],\n",
       "       [0, 1, 0],\n",
       "       [0, 1, 0],\n",
       "       [0, 1, 0],\n",
       "       [0, 1, 0],\n",
       "       [0, 1, 0],\n",
       "       [0, 1, 0],\n",
       "       [0, 1, 0],\n",
       "       [0, 1, 0],\n",
       "       [0, 1, 0],\n",
       "       [0, 1, 0],\n",
       "       [0, 1, 0],\n",
       "       [0, 1, 0],\n",
       "       [0, 1, 0],\n",
       "       [0, 1, 0],\n",
       "       [0, 1, 0],\n",
       "       [0, 1, 0],\n",
       "       [0, 1, 0],\n",
       "       [0, 1, 0],\n",
       "       [0, 1, 0],\n",
       "       [0, 1, 0],\n",
       "       [0, 1, 0],\n",
       "       [0, 1, 0],\n",
       "       [0, 1, 0],\n",
       "       [0, 1, 0],\n",
       "       [0, 1, 0],\n",
       "       [0, 1, 0],\n",
       "       [0, 1, 0],\n",
       "       [0, 1, 0],\n",
       "       [0, 1, 0],\n",
       "       [0, 0, 1],\n",
       "       [0, 0, 1],\n",
       "       [0, 0, 1],\n",
       "       [0, 0, 1],\n",
       "       [0, 0, 1],\n",
       "       [0, 0, 1],\n",
       "       [0, 0, 1],\n",
       "       [0, 0, 1],\n",
       "       [0, 0, 1],\n",
       "       [0, 0, 1],\n",
       "       [0, 0, 1],\n",
       "       [0, 0, 1],\n",
       "       [0, 0, 1],\n",
       "       [0, 0, 1],\n",
       "       [0, 0, 1],\n",
       "       [0, 0, 1],\n",
       "       [0, 0, 1],\n",
       "       [0, 0, 1],\n",
       "       [0, 0, 1],\n",
       "       [0, 0, 1],\n",
       "       [0, 0, 1],\n",
       "       [0, 0, 1],\n",
       "       [0, 0, 1],\n",
       "       [0, 0, 1],\n",
       "       [0, 0, 1],\n",
       "       [0, 0, 1],\n",
       "       [0, 0, 1],\n",
       "       [0, 0, 1],\n",
       "       [0, 0, 1],\n",
       "       [0, 0, 1],\n",
       "       [0, 0, 1],\n",
       "       [0, 0, 1],\n",
       "       [0, 0, 1],\n",
       "       [0, 0, 1],\n",
       "       [0, 0, 1],\n",
       "       [0, 0, 1],\n",
       "       [0, 0, 1],\n",
       "       [0, 0, 1],\n",
       "       [0, 0, 1],\n",
       "       [0, 0, 1],\n",
       "       [0, 0, 1],\n",
       "       [0, 0, 1],\n",
       "       [0, 0, 1],\n",
       "       [0, 0, 1],\n",
       "       [0, 0, 1],\n",
       "       [0, 0, 1],\n",
       "       [0, 0, 1],\n",
       "       [0, 0, 1],\n",
       "       [0, 0, 1],\n",
       "       [0, 0, 1]])"
      ]
     },
     "execution_count": 12,
     "metadata": {},
     "output_type": "execute_result"
    }
   ],
   "source": [
    "y"
   ]
  },
  {
   "cell_type": "code",
   "execution_count": 13,
   "metadata": {},
   "outputs": [
    {
     "data": {
      "text/plain": [
       "numpy.ndarray"
      ]
     },
     "execution_count": 13,
     "metadata": {},
     "output_type": "execute_result"
    }
   ],
   "source": [
    "type(y)"
   ]
  },
  {
   "cell_type": "markdown",
   "metadata": {},
   "source": [
    "<b>Do Train Test Split<b/>"
   ]
  },
  {
   "cell_type": "code",
   "execution_count": 14,
   "metadata": {},
   "outputs": [],
   "source": [
    "from sklearn.model_selection import train_test_split\n",
    "from sklearn.preprocessing import MinMaxScaler"
   ]
  },
  {
   "cell_type": "code",
   "execution_count": 15,
   "metadata": {},
   "outputs": [],
   "source": [
    "scaler = MinMaxScaler()"
   ]
  },
  {
   "cell_type": "code",
   "execution_count": 16,
   "metadata": {},
   "outputs": [],
   "source": [
    "X_train, X_test, y_train, y_test = train_test_split(X, y, test_size=0.3, random_state=100)"
   ]
  },
  {
   "cell_type": "code",
   "execution_count": 17,
   "metadata": {},
   "outputs": [],
   "source": [
    "X_scaled_train = scaler.fit_transform(X_train)\n",
    "X_scaled_test = scaler.transform(X_test)"
   ]
  },
  {
   "cell_type": "code",
   "execution_count": 18,
   "metadata": {},
   "outputs": [
    {
     "data": {
      "text/plain": [
       "(105, 4)"
      ]
     },
     "execution_count": 18,
     "metadata": {},
     "output_type": "execute_result"
    }
   ],
   "source": [
    "X_scaled_train.shape"
   ]
  },
  {
   "cell_type": "markdown",
   "metadata": {},
   "source": [
    "<b>Creating the model<b/>"
   ]
  },
  {
   "cell_type": "code",
   "execution_count": 19,
   "metadata": {},
   "outputs": [],
   "source": [
    "from tensorflow.keras.models import Sequential\n",
    "from tensorflow.keras.layers import Dense"
   ]
  },
  {
   "cell_type": "code",
   "execution_count": 20,
   "metadata": {},
   "outputs": [],
   "source": [
    "model = Sequential()\n",
    "\n",
    "model.add(Dense(8, activation='relu', input_shape=[4,]))\n",
    "model.add(Dense(3, activation='softmax'))\n",
    "\n",
    "model.compile(optimizer='adam', loss='categorical_crossentropy', metrics=['accuracy'])"
   ]
  },
  {
   "cell_type": "markdown",
   "metadata": {},
   "source": [
    "<b>Train the model<b/>"
   ]
  },
  {
   "cell_type": "code",
   "execution_count": 21,
   "metadata": {},
   "outputs": [],
   "source": [
    "from tensorflow.keras.callbacks import EarlyStopping"
   ]
  },
  {
   "cell_type": "code",
   "execution_count": 22,
   "metadata": {},
   "outputs": [],
   "source": [
    "early_stop = EarlyStopping(patience=10)"
   ]
  },
  {
   "cell_type": "code",
   "execution_count": 23,
   "metadata": {},
   "outputs": [
    {
     "name": "stdout",
     "output_type": "stream",
     "text": [
      "Train on 105 samples, validate on 45 samples\n",
      "Epoch 1/200\n",
      "105/105 [==============================] - 1s 9ms/sample - loss: 1.1000 - accuracy: 0.3810 - val_loss: 1.1300 - val_accuracy: 0.4444\n",
      "Epoch 2/200\n",
      "105/105 [==============================] - 0s 289us/sample - loss: 1.0934 - accuracy: 0.4000 - val_loss: 1.1240 - val_accuracy: 0.4667\n",
      "Epoch 3/200\n",
      "105/105 [==============================] - 0s 324us/sample - loss: 1.0870 - accuracy: 0.4381 - val_loss: 1.1175 - val_accuracy: 0.4667\n",
      "Epoch 4/200\n",
      "105/105 [==============================] - 0s 286us/sample - loss: 1.0808 - accuracy: 0.4571 - val_loss: 1.1106 - val_accuracy: 0.4667\n",
      "Epoch 5/200\n",
      "105/105 [==============================] - 0s 324us/sample - loss: 1.0745 - accuracy: 0.4762 - val_loss: 1.1039 - val_accuracy: 0.4889\n",
      "Epoch 6/200\n",
      "105/105 [==============================] - 0s 276us/sample - loss: 1.0682 - accuracy: 0.4762 - val_loss: 1.0976 - val_accuracy: 0.5111\n",
      "Epoch 7/200\n",
      "105/105 [==============================] - 0s 276us/sample - loss: 1.0618 - accuracy: 0.5333 - val_loss: 1.0911 - val_accuracy: 0.5111\n",
      "Epoch 8/200\n",
      "105/105 [==============================] - 0s 257us/sample - loss: 1.0555 - accuracy: 0.5714 - val_loss: 1.0844 - val_accuracy: 0.5111\n",
      "Epoch 9/200\n",
      "105/105 [==============================] - 0s 286us/sample - loss: 1.0490 - accuracy: 0.6095 - val_loss: 1.0778 - val_accuracy: 0.5556\n",
      "Epoch 10/200\n",
      "105/105 [==============================] - 0s 295us/sample - loss: 1.0426 - accuracy: 0.6190 - val_loss: 1.0717 - val_accuracy: 0.5333\n",
      "Epoch 11/200\n",
      "105/105 [==============================] - 0s 247us/sample - loss: 1.0362 - accuracy: 0.6381 - val_loss: 1.0652 - val_accuracy: 0.5333\n",
      "Epoch 12/200\n",
      "105/105 [==============================] - 0s 267us/sample - loss: 1.0296 - accuracy: 0.6762 - val_loss: 1.0583 - val_accuracy: 0.5778\n",
      "Epoch 13/200\n",
      "105/105 [==============================] - 0s 295us/sample - loss: 1.0230 - accuracy: 0.6762 - val_loss: 1.0514 - val_accuracy: 0.5778\n",
      "Epoch 14/200\n",
      "105/105 [==============================] - 0s 324us/sample - loss: 1.0163 - accuracy: 0.6857 - val_loss: 1.0448 - val_accuracy: 0.5778\n",
      "Epoch 15/200\n",
      "105/105 [==============================] - 0s 276us/sample - loss: 1.0095 - accuracy: 0.6857 - val_loss: 1.0376 - val_accuracy: 0.5778\n",
      "Epoch 16/200\n",
      "105/105 [==============================] - 0s 266us/sample - loss: 1.0025 - accuracy: 0.6952 - val_loss: 1.0298 - val_accuracy: 0.5778\n",
      "Epoch 17/200\n",
      "105/105 [==============================] - 0s 295us/sample - loss: 0.9955 - accuracy: 0.6952 - val_loss: 1.0220 - val_accuracy: 0.5778\n",
      "Epoch 18/200\n",
      "105/105 [==============================] - 0s 286us/sample - loss: 0.9882 - accuracy: 0.6952 - val_loss: 1.0143 - val_accuracy: 0.5778\n",
      "Epoch 19/200\n",
      "105/105 [==============================] - 0s 324us/sample - loss: 0.9808 - accuracy: 0.6952 - val_loss: 1.0057 - val_accuracy: 0.5778\n",
      "Epoch 20/200\n",
      "105/105 [==============================] - 0s 276us/sample - loss: 0.9731 - accuracy: 0.6952 - val_loss: 0.9980 - val_accuracy: 0.6000\n",
      "Epoch 21/200\n",
      "105/105 [==============================] - 0s 286us/sample - loss: 0.9657 - accuracy: 0.6952 - val_loss: 0.9903 - val_accuracy: 0.6000\n",
      "Epoch 22/200\n",
      "105/105 [==============================] - 0s 276us/sample - loss: 0.9586 - accuracy: 0.6952 - val_loss: 0.9830 - val_accuracy: 0.6000\n",
      "Epoch 23/200\n",
      "105/105 [==============================] - 0s 333us/sample - loss: 0.9513 - accuracy: 0.6952 - val_loss: 0.9751 - val_accuracy: 0.6000\n",
      "Epoch 24/200\n",
      "105/105 [==============================] - 0s 276us/sample - loss: 0.9444 - accuracy: 0.6952 - val_loss: 0.9671 - val_accuracy: 0.6000\n",
      "Epoch 25/200\n",
      "105/105 [==============================] - 0s 324us/sample - loss: 0.9377 - accuracy: 0.6952 - val_loss: 0.9591 - val_accuracy: 0.6000\n",
      "Epoch 26/200\n",
      "105/105 [==============================] - 0s 333us/sample - loss: 0.9302 - accuracy: 0.6952 - val_loss: 0.9514 - val_accuracy: 0.6000\n",
      "Epoch 27/200\n",
      "105/105 [==============================] - 0s 295us/sample - loss: 0.9234 - accuracy: 0.6952 - val_loss: 0.9439 - val_accuracy: 0.6000\n",
      "Epoch 28/200\n",
      "105/105 [==============================] - 0s 314us/sample - loss: 0.9163 - accuracy: 0.6952 - val_loss: 0.9369 - val_accuracy: 0.6000\n",
      "Epoch 29/200\n",
      "105/105 [==============================] - 0s 295us/sample - loss: 0.9094 - accuracy: 0.6952 - val_loss: 0.9290 - val_accuracy: 0.6000\n",
      "Epoch 30/200\n",
      "105/105 [==============================] - 0s 333us/sample - loss: 0.9028 - accuracy: 0.6952 - val_loss: 0.9206 - val_accuracy: 0.6000\n",
      "Epoch 31/200\n",
      "105/105 [==============================] - 0s 343us/sample - loss: 0.8960 - accuracy: 0.6952 - val_loss: 0.9126 - val_accuracy: 0.6000\n",
      "Epoch 32/200\n",
      "105/105 [==============================] - 0s 305us/sample - loss: 0.8891 - accuracy: 0.6952 - val_loss: 0.9051 - val_accuracy: 0.6000\n",
      "Epoch 33/200\n",
      "105/105 [==============================] - 0s 305us/sample - loss: 0.8823 - accuracy: 0.6952 - val_loss: 0.8976 - val_accuracy: 0.6000\n",
      "Epoch 34/200\n",
      "105/105 [==============================] - 0s 371us/sample - loss: 0.8759 - accuracy: 0.6952 - val_loss: 0.8906 - val_accuracy: 0.6000\n",
      "Epoch 35/200\n",
      "105/105 [==============================] - 0s 305us/sample - loss: 0.8695 - accuracy: 0.6952 - val_loss: 0.8841 - val_accuracy: 0.6000\n",
      "Epoch 36/200\n",
      "105/105 [==============================] - 0s 305us/sample - loss: 0.8634 - accuracy: 0.6952 - val_loss: 0.8777 - val_accuracy: 0.6000\n",
      "Epoch 37/200\n",
      "105/105 [==============================] - 0s 276us/sample - loss: 0.8572 - accuracy: 0.6952 - val_loss: 0.8713 - val_accuracy: 0.6000\n",
      "Epoch 38/200\n",
      "105/105 [==============================] - 0s 314us/sample - loss: 0.8511 - accuracy: 0.6952 - val_loss: 0.8650 - val_accuracy: 0.6000\n",
      "Epoch 39/200\n",
      "105/105 [==============================] - 0s 305us/sample - loss: 0.8449 - accuracy: 0.6952 - val_loss: 0.8589 - val_accuracy: 0.6000\n",
      "Epoch 40/200\n",
      "105/105 [==============================] - 0s 276us/sample - loss: 0.8388 - accuracy: 0.6952 - val_loss: 0.8530 - val_accuracy: 0.6000\n",
      "Epoch 41/200\n",
      "105/105 [==============================] - 0s 295us/sample - loss: 0.8327 - accuracy: 0.6952 - val_loss: 0.8465 - val_accuracy: 0.6000\n",
      "Epoch 42/200\n",
      "105/105 [==============================] - 0s 295us/sample - loss: 0.8267 - accuracy: 0.6952 - val_loss: 0.8398 - val_accuracy: 0.6000\n",
      "Epoch 43/200\n",
      "105/105 [==============================] - 0s 333us/sample - loss: 0.8205 - accuracy: 0.6952 - val_loss: 0.8333 - val_accuracy: 0.6000\n",
      "Epoch 44/200\n",
      "105/105 [==============================] - 0s 276us/sample - loss: 0.8145 - accuracy: 0.6952 - val_loss: 0.8265 - val_accuracy: 0.6000\n",
      "Epoch 45/200\n",
      "105/105 [==============================] - 0s 286us/sample - loss: 0.8084 - accuracy: 0.6952 - val_loss: 0.8195 - val_accuracy: 0.6000\n",
      "Epoch 46/200\n",
      "105/105 [==============================] - 0s 295us/sample - loss: 0.8022 - accuracy: 0.6952 - val_loss: 0.8124 - val_accuracy: 0.6000\n",
      "Epoch 47/200\n",
      "105/105 [==============================] - 0s 333us/sample - loss: 0.7961 - accuracy: 0.6952 - val_loss: 0.8056 - val_accuracy: 0.6000\n",
      "Epoch 48/200\n",
      "105/105 [==============================] - 0s 285us/sample - loss: 0.7902 - accuracy: 0.6952 - val_loss: 0.7981 - val_accuracy: 0.6000\n",
      "Epoch 49/200\n",
      "105/105 [==============================] - 0s 352us/sample - loss: 0.7851 - accuracy: 0.6952 - val_loss: 0.7904 - val_accuracy: 0.6000\n",
      "Epoch 50/200\n",
      "105/105 [==============================] - 0s 352us/sample - loss: 0.7787 - accuracy: 0.6952 - val_loss: 0.7840 - val_accuracy: 0.6000\n",
      "Epoch 51/200\n",
      "105/105 [==============================] - 0s 257us/sample - loss: 0.7729 - accuracy: 0.6952 - val_loss: 0.7779 - val_accuracy: 0.6000\n",
      "Epoch 52/200\n",
      "105/105 [==============================] - ETA: 0s - loss: 0.7121 - accuracy: 0.65 - 0s 276us/sample - loss: 0.7673 - accuracy: 0.6952 - val_loss: 0.7720 - val_accuracy: 0.6000\n",
      "Epoch 53/200\n",
      "105/105 [==============================] - 0s 295us/sample - loss: 0.7618 - accuracy: 0.6952 - val_loss: 0.7666 - val_accuracy: 0.6000\n",
      "Epoch 54/200\n",
      "105/105 [==============================] - 0s 343us/sample - loss: 0.7564 - accuracy: 0.6952 - val_loss: 0.7608 - val_accuracy: 0.6000\n",
      "Epoch 55/200\n",
      "105/105 [==============================] - 0s 295us/sample - loss: 0.7510 - accuracy: 0.6952 - val_loss: 0.7553 - val_accuracy: 0.6000\n"
     ]
    },
    {
     "name": "stdout",
     "output_type": "stream",
     "text": [
      "Epoch 56/200\n",
      "105/105 [==============================] - 0s 295us/sample - loss: 0.7456 - accuracy: 0.6952 - val_loss: 0.7493 - val_accuracy: 0.6000\n",
      "Epoch 57/200\n",
      "105/105 [==============================] - 0s 295us/sample - loss: 0.7404 - accuracy: 0.6952 - val_loss: 0.7435 - val_accuracy: 0.6000\n",
      "Epoch 58/200\n",
      "105/105 [==============================] - 0s 305us/sample - loss: 0.7351 - accuracy: 0.6952 - val_loss: 0.7379 - val_accuracy: 0.6000\n",
      "Epoch 59/200\n",
      "105/105 [==============================] - 0s 219us/sample - loss: 0.7301 - accuracy: 0.6952 - val_loss: 0.7330 - val_accuracy: 0.6000\n",
      "Epoch 60/200\n",
      "105/105 [==============================] - 0s 219us/sample - loss: 0.7249 - accuracy: 0.6952 - val_loss: 0.7276 - val_accuracy: 0.6000\n",
      "Epoch 61/200\n",
      "105/105 [==============================] - 0s 257us/sample - loss: 0.7199 - accuracy: 0.6952 - val_loss: 0.7220 - val_accuracy: 0.6000\n",
      "Epoch 62/200\n",
      "105/105 [==============================] - 0s 228us/sample - loss: 0.7150 - accuracy: 0.6952 - val_loss: 0.7169 - val_accuracy: 0.6000\n",
      "Epoch 63/200\n",
      "105/105 [==============================] - 0s 247us/sample - loss: 0.7100 - accuracy: 0.6952 - val_loss: 0.7115 - val_accuracy: 0.6000\n",
      "Epoch 64/200\n",
      "105/105 [==============================] - 0s 257us/sample - loss: 0.7054 - accuracy: 0.6952 - val_loss: 0.7053 - val_accuracy: 0.6000\n",
      "Epoch 65/200\n",
      "105/105 [==============================] - 0s 295us/sample - loss: 0.7003 - accuracy: 0.6952 - val_loss: 0.6996 - val_accuracy: 0.6000\n",
      "Epoch 66/200\n",
      "105/105 [==============================] - 0s 238us/sample - loss: 0.6953 - accuracy: 0.6952 - val_loss: 0.6942 - val_accuracy: 0.6000\n",
      "Epoch 67/200\n",
      "105/105 [==============================] - 0s 266us/sample - loss: 0.6906 - accuracy: 0.6952 - val_loss: 0.6888 - val_accuracy: 0.6000\n",
      "Epoch 68/200\n",
      "105/105 [==============================] - 0s 247us/sample - loss: 0.6859 - accuracy: 0.6952 - val_loss: 0.6840 - val_accuracy: 0.6000\n",
      "Epoch 69/200\n",
      "105/105 [==============================] - 0s 257us/sample - loss: 0.6814 - accuracy: 0.6952 - val_loss: 0.6789 - val_accuracy: 0.6000\n",
      "Epoch 70/200\n",
      "105/105 [==============================] - 0s 238us/sample - loss: 0.6768 - accuracy: 0.6952 - val_loss: 0.6727 - val_accuracy: 0.6000\n",
      "Epoch 71/200\n",
      "105/105 [==============================] - 0s 257us/sample - loss: 0.6720 - accuracy: 0.6952 - val_loss: 0.6666 - val_accuracy: 0.6000\n",
      "Epoch 72/200\n",
      "105/105 [==============================] - 0s 267us/sample - loss: 0.6674 - accuracy: 0.6952 - val_loss: 0.6610 - val_accuracy: 0.6000\n",
      "Epoch 73/200\n",
      "105/105 [==============================] - 0s 257us/sample - loss: 0.6631 - accuracy: 0.6952 - val_loss: 0.6557 - val_accuracy: 0.6000\n",
      "Epoch 74/200\n",
      "105/105 [==============================] - 0s 257us/sample - loss: 0.6587 - accuracy: 0.6952 - val_loss: 0.6512 - val_accuracy: 0.6000\n",
      "Epoch 75/200\n",
      "105/105 [==============================] - 0s 286us/sample - loss: 0.6546 - accuracy: 0.6952 - val_loss: 0.6458 - val_accuracy: 0.6000\n",
      "Epoch 76/200\n",
      "105/105 [==============================] - 0s 257us/sample - loss: 0.6502 - accuracy: 0.6952 - val_loss: 0.6408 - val_accuracy: 0.6000\n",
      "Epoch 77/200\n",
      "105/105 [==============================] - 0s 267us/sample - loss: 0.6460 - accuracy: 0.6952 - val_loss: 0.6361 - val_accuracy: 0.6000\n",
      "Epoch 78/200\n",
      "105/105 [==============================] - 0s 238us/sample - loss: 0.6419 - accuracy: 0.6952 - val_loss: 0.6316 - val_accuracy: 0.6222\n",
      "Epoch 79/200\n",
      "105/105 [==============================] - 0s 247us/sample - loss: 0.6379 - accuracy: 0.6952 - val_loss: 0.6274 - val_accuracy: 0.6222\n",
      "Epoch 80/200\n",
      "105/105 [==============================] - 0s 228us/sample - loss: 0.6340 - accuracy: 0.6952 - val_loss: 0.6229 - val_accuracy: 0.6444\n",
      "Epoch 81/200\n",
      "105/105 [==============================] - 0s 238us/sample - loss: 0.6299 - accuracy: 0.6952 - val_loss: 0.6186 - val_accuracy: 0.6444\n",
      "Epoch 82/200\n",
      "105/105 [==============================] - 0s 247us/sample - loss: 0.6261 - accuracy: 0.7333 - val_loss: 0.6142 - val_accuracy: 0.6889\n",
      "Epoch 83/200\n",
      "105/105 [==============================] - 0s 267us/sample - loss: 0.6221 - accuracy: 0.7714 - val_loss: 0.6105 - val_accuracy: 0.7111\n",
      "Epoch 84/200\n",
      "105/105 [==============================] - 0s 257us/sample - loss: 0.6184 - accuracy: 0.7714 - val_loss: 0.6065 - val_accuracy: 0.7111\n",
      "Epoch 85/200\n",
      "105/105 [==============================] - 0s 247us/sample - loss: 0.6147 - accuracy: 0.7714 - val_loss: 0.6020 - val_accuracy: 0.7556\n",
      "Epoch 86/200\n",
      "105/105 [==============================] - 0s 257us/sample - loss: 0.6110 - accuracy: 0.7810 - val_loss: 0.5976 - val_accuracy: 0.7556\n",
      "Epoch 87/200\n",
      "105/105 [==============================] - 0s 247us/sample - loss: 0.6073 - accuracy: 0.7905 - val_loss: 0.5929 - val_accuracy: 0.7778\n",
      "Epoch 88/200\n",
      "105/105 [==============================] - 0s 286us/sample - loss: 0.6037 - accuracy: 0.7905 - val_loss: 0.5884 - val_accuracy: 0.8000\n",
      "Epoch 89/200\n",
      "105/105 [==============================] - 0s 276us/sample - loss: 0.6001 - accuracy: 0.7905 - val_loss: 0.5842 - val_accuracy: 0.8222\n",
      "Epoch 90/200\n",
      "105/105 [==============================] - 0s 247us/sample - loss: 0.5967 - accuracy: 0.8000 - val_loss: 0.5797 - val_accuracy: 0.8444\n",
      "Epoch 91/200\n",
      "105/105 [==============================] - 0s 276us/sample - loss: 0.5930 - accuracy: 0.8000 - val_loss: 0.5756 - val_accuracy: 0.8667\n",
      "Epoch 92/200\n",
      "105/105 [==============================] - 0s 314us/sample - loss: 0.5896 - accuracy: 0.8286 - val_loss: 0.5713 - val_accuracy: 0.8667\n",
      "Epoch 93/200\n",
      "105/105 [==============================] - 0s 314us/sample - loss: 0.5862 - accuracy: 0.8286 - val_loss: 0.5664 - val_accuracy: 0.9111\n",
      "Epoch 94/200\n",
      "105/105 [==============================] - 0s 286us/sample - loss: 0.5830 - accuracy: 0.8381 - val_loss: 0.5621 - val_accuracy: 0.9111\n",
      "Epoch 95/200\n",
      "105/105 [==============================] - 0s 305us/sample - loss: 0.5796 - accuracy: 0.8381 - val_loss: 0.5586 - val_accuracy: 0.9333\n",
      "Epoch 96/200\n",
      "105/105 [==============================] - 0s 343us/sample - loss: 0.5765 - accuracy: 0.8381 - val_loss: 0.5549 - val_accuracy: 0.9333\n",
      "Epoch 97/200\n",
      "105/105 [==============================] - 0s 305us/sample - loss: 0.5733 - accuracy: 0.8571 - val_loss: 0.5515 - val_accuracy: 0.9333\n",
      "Epoch 98/200\n",
      "105/105 [==============================] - 0s 352us/sample - loss: 0.5701 - accuracy: 0.8571 - val_loss: 0.5472 - val_accuracy: 0.9333\n",
      "Epoch 99/200\n",
      "105/105 [==============================] - 0s 247us/sample - loss: 0.5670 - accuracy: 0.8952 - val_loss: 0.5423 - val_accuracy: 0.9333\n",
      "Epoch 100/200\n",
      "105/105 [==============================] - 0s 267us/sample - loss: 0.5639 - accuracy: 0.9143 - val_loss: 0.5373 - val_accuracy: 0.9333\n",
      "Epoch 101/200\n",
      "105/105 [==============================] - 0s 257us/sample - loss: 0.5608 - accuracy: 0.9048 - val_loss: 0.5329 - val_accuracy: 0.9333\n",
      "Epoch 102/200\n",
      "105/105 [==============================] - 0s 286us/sample - loss: 0.5580 - accuracy: 0.8952 - val_loss: 0.5287 - val_accuracy: 0.9556\n",
      "Epoch 103/200\n",
      "105/105 [==============================] - 0s 295us/sample - loss: 0.5551 - accuracy: 0.9048 - val_loss: 0.5247 - val_accuracy: 0.9556\n",
      "Epoch 104/200\n",
      "105/105 [==============================] - 0s 286us/sample - loss: 0.5524 - accuracy: 0.9143 - val_loss: 0.5209 - val_accuracy: 0.9556\n",
      "Epoch 105/200\n",
      "105/105 [==============================] - 0s 276us/sample - loss: 0.5494 - accuracy: 0.9238 - val_loss: 0.5177 - val_accuracy: 0.9556\n",
      "Epoch 106/200\n",
      "105/105 [==============================] - 0s 257us/sample - loss: 0.5465 - accuracy: 0.9238 - val_loss: 0.5155 - val_accuracy: 0.9556\n",
      "Epoch 107/200\n",
      "105/105 [==============================] - 0s 267us/sample - loss: 0.5437 - accuracy: 0.9048 - val_loss: 0.5136 - val_accuracy: 0.9778\n",
      "Epoch 108/200\n",
      "105/105 [==============================] - 0s 305us/sample - loss: 0.5412 - accuracy: 0.9143 - val_loss: 0.5123 - val_accuracy: 0.9556\n",
      "Epoch 109/200\n",
      "105/105 [==============================] - 0s 276us/sample - loss: 0.5385 - accuracy: 0.9238 - val_loss: 0.5104 - val_accuracy: 0.9556\n",
      "Epoch 110/200\n",
      "105/105 [==============================] - ETA: 0s - loss: 0.5360 - accuracy: 0.84 - 0s 267us/sample - loss: 0.5359 - accuracy: 0.9143 - val_loss: 0.5077 - val_accuracy: 0.9556\n"
     ]
    },
    {
     "name": "stdout",
     "output_type": "stream",
     "text": [
      "Epoch 111/200\n",
      "105/105 [==============================] - 0s 276us/sample - loss: 0.5332 - accuracy: 0.9238 - val_loss: 0.5044 - val_accuracy: 0.9556\n",
      "Epoch 112/200\n",
      "105/105 [==============================] - 0s 267us/sample - loss: 0.5307 - accuracy: 0.9238 - val_loss: 0.5017 - val_accuracy: 0.9556\n",
      "Epoch 113/200\n",
      "105/105 [==============================] - 0s 257us/sample - loss: 0.5281 - accuracy: 0.9238 - val_loss: 0.4992 - val_accuracy: 0.9556\n",
      "Epoch 114/200\n",
      "105/105 [==============================] - 0s 295us/sample - loss: 0.5255 - accuracy: 0.9143 - val_loss: 0.4966 - val_accuracy: 0.9556\n",
      "Epoch 115/200\n",
      "105/105 [==============================] - 0s 276us/sample - loss: 0.5230 - accuracy: 0.9143 - val_loss: 0.4937 - val_accuracy: 0.9556\n",
      "Epoch 116/200\n",
      "105/105 [==============================] - 0s 267us/sample - loss: 0.5204 - accuracy: 0.9238 - val_loss: 0.4913 - val_accuracy: 0.9556\n",
      "Epoch 117/200\n",
      "105/105 [==============================] - 0s 288us/sample - loss: 0.5179 - accuracy: 0.9238 - val_loss: 0.4893 - val_accuracy: 0.9778\n",
      "Epoch 118/200\n",
      "105/105 [==============================] - 0s 277us/sample - loss: 0.5159 - accuracy: 0.9048 - val_loss: 0.4881 - val_accuracy: 0.9778\n",
      "Epoch 119/200\n",
      "105/105 [==============================] - 0s 276us/sample - loss: 0.5133 - accuracy: 0.8952 - val_loss: 0.4856 - val_accuracy: 0.9778\n",
      "Epoch 120/200\n",
      "105/105 [==============================] - 0s 286us/sample - loss: 0.5109 - accuracy: 0.8952 - val_loss: 0.4830 - val_accuracy: 0.9778\n",
      "Epoch 121/200\n",
      "105/105 [==============================] - 0s 257us/sample - loss: 0.5086 - accuracy: 0.8952 - val_loss: 0.4801 - val_accuracy: 0.9778\n",
      "Epoch 122/200\n",
      "105/105 [==============================] - 0s 352us/sample - loss: 0.5063 - accuracy: 0.8952 - val_loss: 0.4780 - val_accuracy: 0.9778\n",
      "Epoch 123/200\n",
      "105/105 [==============================] - 0s 343us/sample - loss: 0.5040 - accuracy: 0.9048 - val_loss: 0.4750 - val_accuracy: 0.9778\n",
      "Epoch 124/200\n",
      "105/105 [==============================] - 0s 305us/sample - loss: 0.5016 - accuracy: 0.9143 - val_loss: 0.4727 - val_accuracy: 0.9778\n",
      "Epoch 125/200\n",
      "105/105 [==============================] - 0s 305us/sample - loss: 0.4995 - accuracy: 0.9143 - val_loss: 0.4704 - val_accuracy: 0.9778\n",
      "Epoch 126/200\n",
      "105/105 [==============================] - 0s 305us/sample - loss: 0.4972 - accuracy: 0.9143 - val_loss: 0.4681 - val_accuracy: 0.9778\n",
      "Epoch 127/200\n",
      "105/105 [==============================] - 0s 314us/sample - loss: 0.4951 - accuracy: 0.9143 - val_loss: 0.4652 - val_accuracy: 0.9778\n",
      "Epoch 128/200\n",
      "105/105 [==============================] - 0s 286us/sample - loss: 0.4930 - accuracy: 0.9143 - val_loss: 0.4614 - val_accuracy: 0.9556\n",
      "Epoch 129/200\n",
      "105/105 [==============================] - 0s 352us/sample - loss: 0.4906 - accuracy: 0.9238 - val_loss: 0.4593 - val_accuracy: 0.9556\n",
      "Epoch 130/200\n",
      "105/105 [==============================] - 0s 257us/sample - loss: 0.4885 - accuracy: 0.9238 - val_loss: 0.4580 - val_accuracy: 0.9556\n",
      "Epoch 131/200\n",
      "105/105 [==============================] - 0s 257us/sample - loss: 0.4867 - accuracy: 0.9143 - val_loss: 0.4568 - val_accuracy: 0.9778\n",
      "Epoch 132/200\n",
      "105/105 [==============================] - 0s 267us/sample - loss: 0.4845 - accuracy: 0.9143 - val_loss: 0.4540 - val_accuracy: 0.9556\n",
      "Epoch 133/200\n",
      "105/105 [==============================] - 0s 257us/sample - loss: 0.4824 - accuracy: 0.9143 - val_loss: 0.4521 - val_accuracy: 0.9556\n",
      "Epoch 134/200\n",
      "105/105 [==============================] - 0s 295us/sample - loss: 0.4804 - accuracy: 0.9143 - val_loss: 0.4506 - val_accuracy: 0.9778\n",
      "Epoch 135/200\n",
      "105/105 [==============================] - 0s 257us/sample - loss: 0.4785 - accuracy: 0.9143 - val_loss: 0.4487 - val_accuracy: 0.9778\n",
      "Epoch 136/200\n",
      "105/105 [==============================] - 0s 257us/sample - loss: 0.4764 - accuracy: 0.9143 - val_loss: 0.4456 - val_accuracy: 0.9556\n",
      "Epoch 137/200\n",
      "105/105 [==============================] - 0s 295us/sample - loss: 0.4743 - accuracy: 0.9143 - val_loss: 0.4428 - val_accuracy: 0.9556\n",
      "Epoch 138/200\n",
      "105/105 [==============================] - 0s 267us/sample - loss: 0.4721 - accuracy: 0.9333 - val_loss: 0.4395 - val_accuracy: 0.9556\n",
      "Epoch 139/200\n",
      "105/105 [==============================] - 0s 267us/sample - loss: 0.4702 - accuracy: 0.9333 - val_loss: 0.4366 - val_accuracy: 0.9778\n",
      "Epoch 140/200\n",
      "105/105 [==============================] - 0s 257us/sample - loss: 0.4684 - accuracy: 0.9429 - val_loss: 0.4342 - val_accuracy: 0.9778\n",
      "Epoch 141/200\n",
      "105/105 [==============================] - 0s 295us/sample - loss: 0.4664 - accuracy: 0.9429 - val_loss: 0.4322 - val_accuracy: 0.9778\n",
      "Epoch 142/200\n",
      "105/105 [==============================] - 0s 257us/sample - loss: 0.4645 - accuracy: 0.9429 - val_loss: 0.4295 - val_accuracy: 0.9778\n",
      "Epoch 143/200\n",
      "105/105 [==============================] - 0s 267us/sample - loss: 0.4626 - accuracy: 0.9333 - val_loss: 0.4266 - val_accuracy: 0.9778\n",
      "Epoch 144/200\n",
      "105/105 [==============================] - 0s 257us/sample - loss: 0.4610 - accuracy: 0.9333 - val_loss: 0.4241 - val_accuracy: 0.9778\n",
      "Epoch 145/200\n",
      "105/105 [==============================] - 0s 267us/sample - loss: 0.4590 - accuracy: 0.9429 - val_loss: 0.4226 - val_accuracy: 0.9778\n",
      "Epoch 146/200\n",
      "105/105 [==============================] - 0s 267us/sample - loss: 0.4571 - accuracy: 0.9333 - val_loss: 0.4211 - val_accuracy: 0.9778\n",
      "Epoch 147/200\n",
      "105/105 [==============================] - 0s 286us/sample - loss: 0.4561 - accuracy: 0.9333 - val_loss: 0.4208 - val_accuracy: 0.9778\n",
      "Epoch 148/200\n",
      "105/105 [==============================] - 0s 267us/sample - loss: 0.4535 - accuracy: 0.9429 - val_loss: 0.4184 - val_accuracy: 0.9778\n",
      "Epoch 149/200\n",
      "105/105 [==============================] - 0s 257us/sample - loss: 0.4518 - accuracy: 0.9429 - val_loss: 0.4161 - val_accuracy: 0.9778\n",
      "Epoch 150/200\n",
      "105/105 [==============================] - 0s 276us/sample - loss: 0.4499 - accuracy: 0.9429 - val_loss: 0.4142 - val_accuracy: 0.9778\n",
      "Epoch 151/200\n",
      "105/105 [==============================] - 0s 267us/sample - loss: 0.4482 - accuracy: 0.9429 - val_loss: 0.4125 - val_accuracy: 0.9778\n",
      "Epoch 152/200\n",
      "105/105 [==============================] - 0s 295us/sample - loss: 0.4464 - accuracy: 0.9333 - val_loss: 0.4110 - val_accuracy: 0.9778\n",
      "Epoch 153/200\n",
      "105/105 [==============================] - 0s 276us/sample - loss: 0.4447 - accuracy: 0.9333 - val_loss: 0.4094 - val_accuracy: 0.9556\n",
      "Epoch 154/200\n",
      "105/105 [==============================] - 0s 286us/sample - loss: 0.4430 - accuracy: 0.9333 - val_loss: 0.4079 - val_accuracy: 0.9556\n",
      "Epoch 155/200\n",
      "105/105 [==============================] - 0s 238us/sample - loss: 0.4412 - accuracy: 0.9333 - val_loss: 0.4060 - val_accuracy: 0.9556\n",
      "Epoch 156/200\n",
      "105/105 [==============================] - 0s 238us/sample - loss: 0.4396 - accuracy: 0.9333 - val_loss: 0.4044 - val_accuracy: 0.9556\n",
      "Epoch 157/200\n",
      "105/105 [==============================] - 0s 295us/sample - loss: 0.4382 - accuracy: 0.9333 - val_loss: 0.4035 - val_accuracy: 0.9556\n",
      "Epoch 158/200\n",
      "105/105 [==============================] - 0s 324us/sample - loss: 0.4365 - accuracy: 0.9333 - val_loss: 0.4010 - val_accuracy: 0.9778\n",
      "Epoch 159/200\n",
      "105/105 [==============================] - 0s 324us/sample - loss: 0.4346 - accuracy: 0.9429 - val_loss: 0.3989 - val_accuracy: 0.9778\n",
      "Epoch 160/200\n",
      "105/105 [==============================] - 0s 228us/sample - loss: 0.4328 - accuracy: 0.9429 - val_loss: 0.3978 - val_accuracy: 0.9778\n",
      "Epoch 161/200\n",
      "105/105 [==============================] - 0s 343us/sample - loss: 0.4313 - accuracy: 0.9333 - val_loss: 0.3960 - val_accuracy: 0.9778\n",
      "Epoch 162/200\n",
      "105/105 [==============================] - 0s 247us/sample - loss: 0.4296 - accuracy: 0.9333 - val_loss: 0.3937 - val_accuracy: 0.9778\n",
      "Epoch 163/200\n",
      "105/105 [==============================] - 0s 267us/sample - loss: 0.4279 - accuracy: 0.9524 - val_loss: 0.3912 - val_accuracy: 0.9778\n",
      "Epoch 164/200\n",
      "105/105 [==============================] - 0s 257us/sample - loss: 0.4263 - accuracy: 0.9524 - val_loss: 0.3886 - val_accuracy: 0.9778\n",
      "Epoch 165/200\n",
      "105/105 [==============================] - 0s 286us/sample - loss: 0.4249 - accuracy: 0.9524 - val_loss: 0.3863 - val_accuracy: 0.9778\n"
     ]
    },
    {
     "name": "stdout",
     "output_type": "stream",
     "text": [
      "Epoch 166/200\n",
      "105/105 [==============================] - 0s 257us/sample - loss: 0.4235 - accuracy: 0.9524 - val_loss: 0.3850 - val_accuracy: 0.9778\n",
      "Epoch 167/200\n",
      "105/105 [==============================] - 0s 247us/sample - loss: 0.4222 - accuracy: 0.9619 - val_loss: 0.3823 - val_accuracy: 0.9778\n",
      "Epoch 168/200\n",
      "105/105 [==============================] - 0s 238us/sample - loss: 0.4202 - accuracy: 0.9524 - val_loss: 0.3812 - val_accuracy: 0.9778\n",
      "Epoch 169/200\n",
      "105/105 [==============================] - 0s 228us/sample - loss: 0.4184 - accuracy: 0.9524 - val_loss: 0.3815 - val_accuracy: 0.9778\n",
      "Epoch 170/200\n",
      "105/105 [==============================] - 0s 238us/sample - loss: 0.4172 - accuracy: 0.9333 - val_loss: 0.3819 - val_accuracy: 0.9556\n",
      "Epoch 171/200\n",
      "105/105 [==============================] - 0s 267us/sample - loss: 0.4160 - accuracy: 0.9238 - val_loss: 0.3819 - val_accuracy: 0.9778\n",
      "Epoch 172/200\n",
      "105/105 [==============================] - 0s 247us/sample - loss: 0.4149 - accuracy: 0.9238 - val_loss: 0.3818 - val_accuracy: 0.9778\n",
      "Epoch 173/200\n",
      "105/105 [==============================] - 0s 238us/sample - loss: 0.4139 - accuracy: 0.9238 - val_loss: 0.3813 - val_accuracy: 0.9778\n",
      "Epoch 174/200\n",
      "105/105 [==============================] - 0s 238us/sample - loss: 0.4123 - accuracy: 0.9238 - val_loss: 0.3797 - val_accuracy: 0.9778\n",
      "Epoch 175/200\n",
      "105/105 [==============================] - 0s 247us/sample - loss: 0.4106 - accuracy: 0.9238 - val_loss: 0.3774 - val_accuracy: 0.9778\n",
      "Epoch 176/200\n",
      "105/105 [==============================] - 0s 228us/sample - loss: 0.4089 - accuracy: 0.9238 - val_loss: 0.3749 - val_accuracy: 0.9556\n",
      "Epoch 177/200\n",
      "105/105 [==============================] - 0s 267us/sample - loss: 0.4071 - accuracy: 0.9238 - val_loss: 0.3717 - val_accuracy: 0.9556\n",
      "Epoch 178/200\n",
      "105/105 [==============================] - 0s 247us/sample - loss: 0.4060 - accuracy: 0.9238 - val_loss: 0.3685 - val_accuracy: 0.9778\n",
      "Epoch 179/200\n",
      "105/105 [==============================] - 0s 305us/sample - loss: 0.4042 - accuracy: 0.9524 - val_loss: 0.3663 - val_accuracy: 0.9778\n",
      "Epoch 180/200\n",
      "105/105 [==============================] - 0s 324us/sample - loss: 0.4028 - accuracy: 0.9524 - val_loss: 0.3648 - val_accuracy: 0.9778\n",
      "Epoch 181/200\n",
      "105/105 [==============================] - 0s 295us/sample - loss: 0.4011 - accuracy: 0.9524 - val_loss: 0.3644 - val_accuracy: 0.9778\n",
      "Epoch 182/200\n",
      "105/105 [==============================] - 0s 314us/sample - loss: 0.4002 - accuracy: 0.9333 - val_loss: 0.3642 - val_accuracy: 0.9556\n",
      "Epoch 183/200\n",
      "105/105 [==============================] - 0s 305us/sample - loss: 0.3985 - accuracy: 0.9238 - val_loss: 0.3627 - val_accuracy: 0.9556\n",
      "Epoch 184/200\n",
      "105/105 [==============================] - 0s 238us/sample - loss: 0.3971 - accuracy: 0.9238 - val_loss: 0.3611 - val_accuracy: 0.9556\n",
      "Epoch 185/200\n",
      "105/105 [==============================] - 0s 267us/sample - loss: 0.3958 - accuracy: 0.9238 - val_loss: 0.3594 - val_accuracy: 0.9556\n",
      "Epoch 186/200\n",
      "105/105 [==============================] - 0s 276us/sample - loss: 0.3943 - accuracy: 0.9238 - val_loss: 0.3571 - val_accuracy: 0.9556\n",
      "Epoch 187/200\n",
      "105/105 [==============================] - 0s 257us/sample - loss: 0.3928 - accuracy: 0.9429 - val_loss: 0.3545 - val_accuracy: 0.9778\n",
      "Epoch 188/200\n",
      "105/105 [==============================] - 0s 257us/sample - loss: 0.3915 - accuracy: 0.9524 - val_loss: 0.3524 - val_accuracy: 0.9778\n",
      "Epoch 189/200\n",
      "105/105 [==============================] - 0s 276us/sample - loss: 0.3900 - accuracy: 0.9524 - val_loss: 0.3509 - val_accuracy: 0.9778\n",
      "Epoch 190/200\n",
      "105/105 [==============================] - 0s 257us/sample - loss: 0.3887 - accuracy: 0.9524 - val_loss: 0.3490 - val_accuracy: 0.9778\n",
      "Epoch 191/200\n",
      "105/105 [==============================] - 0s 286us/sample - loss: 0.3872 - accuracy: 0.9524 - val_loss: 0.3470 - val_accuracy: 0.9778\n",
      "Epoch 192/200\n",
      "105/105 [==============================] - 0s 247us/sample - loss: 0.3859 - accuracy: 0.9524 - val_loss: 0.3455 - val_accuracy: 0.9778\n",
      "Epoch 193/200\n",
      "105/105 [==============================] - 0s 267us/sample - loss: 0.3844 - accuracy: 0.9524 - val_loss: 0.3448 - val_accuracy: 0.9778\n",
      "Epoch 194/200\n",
      "105/105 [==============================] - 0s 295us/sample - loss: 0.3831 - accuracy: 0.9524 - val_loss: 0.3442 - val_accuracy: 0.9778\n",
      "Epoch 195/200\n",
      "105/105 [==============================] - 0s 247us/sample - loss: 0.3820 - accuracy: 0.9333 - val_loss: 0.3430 - val_accuracy: 0.9556\n",
      "Epoch 196/200\n",
      "105/105 [==============================] - 0s 257us/sample - loss: 0.3806 - accuracy: 0.9333 - val_loss: 0.3415 - val_accuracy: 0.9556\n",
      "Epoch 197/200\n",
      "105/105 [==============================] - 0s 286us/sample - loss: 0.3793 - accuracy: 0.9333 - val_loss: 0.3400 - val_accuracy: 0.9556\n",
      "Epoch 198/200\n",
      "105/105 [==============================] - 0s 305us/sample - loss: 0.3781 - accuracy: 0.9333 - val_loss: 0.3382 - val_accuracy: 0.9778\n",
      "Epoch 199/200\n",
      "105/105 [==============================] - 0s 257us/sample - loss: 0.3767 - accuracy: 0.9333 - val_loss: 0.3372 - val_accuracy: 0.9556\n",
      "Epoch 200/200\n",
      "105/105 [==============================] - 0s 257us/sample - loss: 0.3754 - accuracy: 0.9238 - val_loss: 0.3359 - val_accuracy: 0.9556\n"
     ]
    },
    {
     "data": {
      "text/plain": [
       "<tensorflow.python.keras.callbacks.History at 0x25545ad5dc8>"
      ]
     },
     "execution_count": 23,
     "metadata": {},
     "output_type": "execute_result"
    }
   ],
   "source": [
    "model.fit(X_scaled_train, y_train, epochs= 200, validation_data=(X_scaled_test, y_test), callbacks=[early_stop])"
   ]
  },
  {
   "cell_type": "markdown",
   "metadata": {},
   "source": [
    "<b>Plotting model accuracy and loss<b/>"
   ]
  },
  {
   "cell_type": "code",
   "execution_count": 24,
   "metadata": {},
   "outputs": [],
   "source": [
    "model_performance = pd.DataFrame(model.history.history)"
   ]
  },
  {
   "cell_type": "code",
   "execution_count": 25,
   "metadata": {},
   "outputs": [
    {
     "data": {
      "text/plain": [
       "<matplotlib.axes._subplots.AxesSubplot at 0x25540ab8f48>"
      ]
     },
     "execution_count": 25,
     "metadata": {},
     "output_type": "execute_result"
    },
    {
     "data": {
      "image/png": "[encoded data removed]",
      "text/plain": [
       "<Figure size 432x288 with 1 Axes>"
      ]
     },
     "metadata": {
      "needs_background": "light"
     },
     "output_type": "display_data"
    }
   ],
   "source": [
    "model_performance[['loss', 'val_loss']].plot()"
   ]
  },
  {
   "cell_type": "code",
   "execution_count": 26,
   "metadata": {},
   "outputs": [
    {
     "data": {
      "text/html": [
       "<div>\n",
       "<style scoped>\n",
       "    .dataframe tbody tr th:only-of-type {\n",
       "        vertical-align: middle;\n",
       "    }\n",
       "\n",
       "    .dataframe tbody tr th {\n",
       "        vertical-align: top;\n",
       "    }\n",
       "\n",
       "    .dataframe thead th {\n",
       "        text-align: right;\n",
       "    }\n",
       "</style>\n",
       "<table border=\"1\" class=\"dataframe\">\n",
       "  <thead>\n",
       "    <tr style=\"text-align: right;\">\n",
       "      <th></th>\n",
       "      <th>loss</th>\n",
       "      <th>accuracy</th>\n",
       "      <th>val_loss</th>\n",
       "      <th>val_accuracy</th>\n",
       "    </tr>\n",
       "  </thead>\n",
       "  <tbody>\n",
       "    <tr>\n",
       "      <th>0</th>\n",
       "      <td>1.100011</td>\n",
       "      <td>0.380952</td>\n",
       "      <td>1.129995</td>\n",
       "      <td>0.444444</td>\n",
       "    </tr>\n",
       "    <tr>\n",
       "      <th>1</th>\n",
       "      <td>1.093408</td>\n",
       "      <td>0.400000</td>\n",
       "      <td>1.124019</td>\n",
       "      <td>0.466667</td>\n",
       "    </tr>\n",
       "    <tr>\n",
       "      <th>2</th>\n",
       "      <td>1.087018</td>\n",
       "      <td>0.438095</td>\n",
       "      <td>1.117544</td>\n",
       "      <td>0.466667</td>\n",
       "    </tr>\n",
       "    <tr>\n",
       "      <th>3</th>\n",
       "      <td>1.080776</td>\n",
       "      <td>0.457143</td>\n",
       "      <td>1.110555</td>\n",
       "      <td>0.466667</td>\n",
       "    </tr>\n",
       "    <tr>\n",
       "      <th>4</th>\n",
       "      <td>1.074535</td>\n",
       "      <td>0.476190</td>\n",
       "      <td>1.103890</td>\n",
       "      <td>0.488889</td>\n",
       "    </tr>\n",
       "  </tbody>\n",
       "</table>\n",
       "</div>"
      ],
      "text/plain": [
       "       loss  accuracy  val_loss  val_accuracy\n",
       "0  1.100011  0.380952  1.129995      0.444444\n",
       "1  1.093408  0.400000  1.124019      0.466667\n",
       "2  1.087018  0.438095  1.117544      0.466667\n",
       "3  1.080776  0.457143  1.110555      0.466667\n",
       "4  1.074535  0.476190  1.103890      0.488889"
      ]
     },
     "execution_count": 26,
     "metadata": {},
     "output_type": "execute_result"
    }
   ],
   "source": [
    "model_performance.head()"
   ]
  },
  {
   "cell_type": "code",
   "execution_count": 27,
   "metadata": {},
   "outputs": [
    {
     "data": {
      "text/plain": [
       "<matplotlib.axes._subplots.AxesSubplot at 0x2554e2b3488>"
      ]
     },
     "execution_count": 27,
     "metadata": {},
     "output_type": "execute_result"
    },
    {
     "data": {
      "image/png": "[encoded data removed]",
      "text/plain": [
       "<Figure size 432x288 with 1 Axes>"
      ]
     },
     "metadata": {
      "needs_background": "light"
     },
     "output_type": "display_data"
    }
   ],
   "source": [
    "model_performance[['accuracy', 'val_accuracy']].plot()"
   ]
  },
  {
   "cell_type": "code",
   "execution_count": 28,
   "metadata": {},
   "outputs": [
    {
     "data": {
      "text/plain": [
       "[0.3358978165520562, 0.95555556]"
      ]
     },
     "execution_count": 28,
     "metadata": {},
     "output_type": "execute_result"
    }
   ],
   "source": [
    "model.evaluate(X_scaled_test, y_test, verbose=0)"
   ]
  },
  {
   "cell_type": "markdown",
   "metadata": {},
   "source": [
    "<b>Save the model<b/>"
   ]
  },
  {
   "cell_type": "code",
   "execution_count": 29,
   "metadata": {},
   "outputs": [],
   "source": [
    "model.save('iris_model_pred.h5')"
   ]
  },
  {
   "cell_type": "markdown",
   "metadata": {},
   "source": [
    "<b>Save the scaler instance<b/>"
   ]
  },
  {
   "cell_type": "code",
   "execution_count": 30,
   "metadata": {},
   "outputs": [],
   "source": [
    "import joblib"
   ]
  },
  {
   "cell_type": "code",
   "execution_count": 31,
   "metadata": {},
   "outputs": [
    {
     "data": {
      "text/plain": [
       "['iris_scaler.pkl']"
      ]
     },
     "execution_count": 31,
     "metadata": {},
     "output_type": "execute_result"
    }
   ],
   "source": [
    "joblib.dump(scaler, 'iris_scaler.pkl')"
   ]
  },
  {
   "cell_type": "markdown",
   "metadata": {},
   "source": [
    "<b>Load model and scaler<b/>"
   ]
  },
  {
   "cell_type": "code",
   "execution_count": 32,
   "metadata": {},
   "outputs": [],
   "source": [
    "from tensorflow.keras.models import load_model"
   ]
  },
  {
   "cell_type": "code",
   "execution_count": 33,
   "metadata": {},
   "outputs": [],
   "source": [
    "flower_model = load_model('iris_model_pred.h5')"
   ]
  },
  {
   "cell_type": "code",
   "execution_count": 34,
   "metadata": {},
   "outputs": [],
   "source": [
    "flower_scaler = joblib.load('iris_scaler.pkl')"
   ]
  },
  {
   "cell_type": "markdown",
   "metadata": {},
   "source": [
    "<b>Creating Model Prediction Function<b/>"
   ]
  },
  {
   "cell_type": "code",
   "execution_count": 35,
   "metadata": {},
   "outputs": [
    {
     "data": {
      "text/html": [
       "<div>\n",
       "<style scoped>\n",
       "    .dataframe tbody tr th:only-of-type {\n",
       "        vertical-align: middle;\n",
       "    }\n",
       "\n",
       "    .dataframe tbody tr th {\n",
       "        vertical-align: top;\n",
       "    }\n",
       "\n",
       "    .dataframe thead th {\n",
       "        text-align: right;\n",
       "    }\n",
       "</style>\n",
       "<table border=\"1\" class=\"dataframe\">\n",
       "  <thead>\n",
       "    <tr style=\"text-align: right;\">\n",
       "      <th></th>\n",
       "      <th>sepal_length</th>\n",
       "      <th>sepal_width</th>\n",
       "      <th>petal_length</th>\n",
       "      <th>petal_width</th>\n",
       "      <th>species</th>\n",
       "    </tr>\n",
       "  </thead>\n",
       "  <tbody>\n",
       "    <tr>\n",
       "      <th>0</th>\n",
       "      <td>5.1</td>\n",
       "      <td>3.5</td>\n",
       "      <td>1.4</td>\n",
       "      <td>0.2</td>\n",
       "      <td>setosa</td>\n",
       "    </tr>\n",
       "  </tbody>\n",
       "</table>\n",
       "</div>"
      ],
      "text/plain": [
       "   sepal_length  sepal_width  petal_length  petal_width species\n",
       "0           5.1          3.5           1.4          0.2  setosa"
      ]
     },
     "execution_count": 35,
     "metadata": {},
     "output_type": "execute_result"
    }
   ],
   "source": [
    "df.head(1)"
   ]
  },
  {
   "cell_type": "code",
   "execution_count": 37,
   "metadata": {},
   "outputs": [],
   "source": [
    "flower_example = {\"sepal_length\": 5.1,\n",
    "                 \"sepal_width\": 3.5,\n",
    "                 \"petal_length\": 1.4,\n",
    "                 \"petal_width\": 0.2}"
   ]
  },
  {
   "cell_type": "code",
   "execution_count": 38,
   "metadata": {},
   "outputs": [
    {
     "data": {
      "text/plain": [
       "array(['setosa', 'versicolor', 'virginica'], dtype='<U10')"
      ]
     },
     "execution_count": 38,
     "metadata": {},
     "output_type": "execute_result"
    }
   ],
   "source": [
    "encoder.classes_"
   ]
  },
  {
   "cell_type": "code",
   "execution_count": 48,
   "metadata": {},
   "outputs": [],
   "source": [
    "def model_prediction(model, scaler, sample_json):\n",
    "    \n",
    "    s_len = sample_json['sepal_length']\n",
    "    s_width = sample_json['sepal_width']\n",
    "    p_len = sample_json['petal_length']\n",
    "    p_width = sample_json['petal_width']\n",
    "    \n",
    "    flower = [[s_len, s_width, p_len, p_width]]\n",
    "    \n",
    "    classes = np.array(['setosa', 'versicolor', 'virginica'])\n",
    "    \n",
    "    flower = scaler.transform(flower)\n",
    "    \n",
    "    class_index = model.predict_classes(flower)[0]\n",
    "    \n",
    "    return classes[class_index]"
   ]
  },
  {
   "cell_type": "code",
   "execution_count": 49,
   "metadata": {},
   "outputs": [
    {
     "data": {
      "text/plain": [
       "'setosa'"
      ]
     },
     "execution_count": 49,
     "metadata": {},
     "output_type": "execute_result"
    }
   ],
   "source": [
    "model_prediction(flower_model, flower_scaler, flower_example)"
   ]
  },
  {
   "cell_type": "code",
   "execution_count": null,
   "metadata": {},
   "outputs": [],
   "source": []
  },
  {
   "cell_type": "markdown",
   "metadata": {},
   "source": [
    "# Deployment Code"
   ]
  },
  {
   "cell_type": "code",
   "execution_count": 52,
   "metadata": {},
   "outputs": [],
   "source": [
    "from tensorflow.keras.models import load_model\n",
    "import joblib\n",
    "import numpy as np\n",
    "\n",
    "flower_model = load_model('iris_model_pred.h5')\n",
    "flower_scaler = joblib.load('iris_scaler.pkl')\n",
    "\n",
    "def model_prediction(model, scaler, sample_json):\n",
    "    \n",
    "    s_len = sample_json['sepal_length']\n",
    "    s_width = sample_json['sepal_width']\n",
    "    p_len = sample_json['petal_length']\n",
    "    p_width = sample_json['petal_width']\n",
    "    \n",
    "    flower = [[s_len, s_width, p_len, p_width]]\n",
    "    \n",
    "    classes = np.array(['setosa', 'versicolor', 'virginica'])\n",
    "    \n",
    "    flower = scaler.transform(flower)\n",
    "    \n",
    "    class_index = model.predict_classes(flower)[0]\n",
    "    \n",
    "    return classes[class_index]"
   ]
  },
  {
   "cell_type": "code",
   "execution_count": null,
   "metadata": {},
   "outputs": [],
   "source": []
  }
 ],
 "metadata": {
  "kernelspec": {
   "display_name": "Python 3",
   "language": "python",
   "name": "python3"
  },
  "language_info": {
   "codemirror_mode": {
    "name": "ipython",
    "version": 3
   },
   "file_extension": ".py",
   "mimetype": "text/x-python",
   "name": "python",
   "nbconvert_exporter": "python",
   "pygments_lexer": "ipython3",
   "version": "3.7.9"
  }
 },
 "nbformat": 4,
 "nbformat_minor": 4
}
